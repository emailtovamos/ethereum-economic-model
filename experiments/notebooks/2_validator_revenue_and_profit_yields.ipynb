{
 "cells": [
  {
   "cell_type": "markdown",
   "id": "a6b4c816",
   "metadata": {},
   "source": [
    "# Experiment Notebook: Validator Revenue and Profit Yields"
   ]
  },
  {
   "cell_type": "markdown",
   "id": "864d6acf",
   "metadata": {},
   "source": [
    "# Table of Contents\n",
    "* [Experiment Summary](#Experiment-Summary)\n",
    "* [Experiment Assumptions](#Experiment-Assumptions)\n",
    "* [Experiment Setup](#Experiment-Setup)\n",
    "* [Analysis 1: Revenue and Profit Yields Over Time](#Analysis-1:-Revenue-and-Profit-Yields-Over-Time)\n",
    "* [Analysis 2: Revenue and Profit Yields Over ETH Staked](#Analysis-2:-Revenue-and-Profit-Yields-Over-ETH-Staked)\n",
    "* [Analysis 3: Revenue and Profit Yields Over ETH Price](#Analysis-3:-Revenue-and-Profit-Yields-Over-ETH-Price)\n",
    "* [Analysis 4: Profit Yields Over ETH Staked vs. ETH Price (Yield Surface)](#Analysis-4:-Profit-Yields-Over-ETH-Staked-vs.-ETH-Price)\n",
    "* [Analysis 5: Profit Yields By Validator Environment Over Time](#Analysis-5:-Profit-Yields-By-Validator-Environment-Over-Time)"
   ]
  },
  {
   "cell_type": "markdown",
   "id": "a70ed829",
   "metadata": {},
   "source": [
    "# Experiment Summary \n",
    "\n",
    "The purpose of this notebook is to explore the returns validators can expect from staking in the Ethereum protocol across different time horizons, adoption scenarios, ETH price scenarios, and validator environments.\n",
    "\n",
    "# Experiment Assumptions\n",
    "\n",
    "In this experiment notebook, time-domain analyses simulate the transition from the current network network upgrade stage at today's date onwards (i.e. the transition from the Beacon Chain Stage, to the EIP-1559 Stage, to the Proof-of-Stake Stage),\n",
    "whereas phase-space analyses simulate the current network upgrade stage providing a \"snapshot\" of the system state at this time.\n",
    "\n",
    "See [assumptions document](../../ASSUMPTIONS.md) for further details."
   ]
  },
  {
   "cell_type": "markdown",
   "id": "a4271beb",
   "metadata": {},
   "source": [
    "# Experiment Setup\n",
    "\n",
    "We begin with several experiment-notebook-level preparatory setup operations:\n",
    "\n",
    "* Import relevant dependencies\n",
    "* Import relevant experiment templates\n",
    "* Create copies of experiments\n",
    "* Configure and customize experiments \n",
    "\n",
    "Analysis-specific setup operations are handled in their respective notebook sections."
   ]
  },
  {
   "cell_type": "code",
   "execution_count": 65,
   "id": "268993e7",
   "metadata": {},
   "outputs": [
    {
     "name": "stdout",
     "output_type": "stream",
     "text": [
      "time: 80.1 ms (started: 2023-01-30 12:25:31 +05:30)\n"
     ]
    }
   ],
   "source": [
    "import setup\n",
    "\n",
    "import copy\n",
    "import logging\n",
    "import numpy as np\n",
    "import pandas as pd\n",
    "\n",
    "from experiments.notebooks import visualizations\n",
    "from experiments.run import run\n",
    "from experiments.utils import display_code\n",
    "from model.types import Stage\n",
    "from model.system_parameters import validator_environments\n",
    "from model.state_variables import eth_staked, eth_supply"
   ]
  },
  {
   "cell_type": "code",
   "execution_count": 66,
   "id": "c07053a4",
   "metadata": {},
   "outputs": [
    {
     "name": "stdout",
     "output_type": "stream",
     "text": [
      "time: 57.8 ms (started: 2023-01-30 12:25:31 +05:30)\n"
     ]
    }
   ],
   "source": [
    "# Enable/disable logging\n",
    "logger = logging.getLogger()\n",
    "logger.disabled = True"
   ]
  },
  {
   "cell_type": "code",
   "execution_count": 67,
   "id": "d9787b5f",
   "metadata": {},
   "outputs": [
    {
     "name": "stdout",
     "output_type": "stream",
     "text": [
      "time: 50.9 ms (started: 2023-01-30 12:25:31 +05:30)\n"
     ]
    }
   ],
   "source": [
    "# Import experiment templates\n",
    "import experiments.templates.time_domain_analysis as time_domain_analysis\n",
    "import experiments.templates.cumulative_yield_analysis as cumulative_yield_analysis\n",
    "import experiments.templates.eth_staked_sweep_analysis as eth_staked_sweep_analysis\n",
    "import experiments.templates.eth_price_sweep_analysis as eth_price_sweep_analysis\n",
    "import experiments.templates.eth_price_eth_staked_grid_analysis as eth_price_eth_staked_grid_analysis"
   ]
  },
  {
   "cell_type": "code",
   "execution_count": 68,
   "id": "8caccada",
   "metadata": {},
   "outputs": [
    {
     "name": "stdout",
     "output_type": "stream",
     "text": [
      "time: 60.5 ms (started: 2023-01-30 12:25:32 +05:30)\n"
     ]
    }
   ],
   "source": [
    "# Create a new copy of the relevant simulation for each analysis\n",
    "simulation_1a = copy.deepcopy(time_domain_analysis.experiment.simulations[0])\n",
    "simulation_1b = copy.deepcopy(cumulative_yield_analysis.experiment.simulations[0])\n",
    "simulation_2 = copy.deepcopy(eth_staked_sweep_analysis.experiment.simulations[0])\n",
    "simulation_3 = copy.deepcopy(eth_price_sweep_analysis.experiment.simulations[0])\n",
    "simulation_4 = copy.deepcopy(eth_price_eth_staked_grid_analysis.experiment.simulations[0])\n",
    "simulation_5 = copy.deepcopy(time_domain_analysis.experiment.simulations[0])"
   ]
  },
  {
   "cell_type": "markdown",
   "id": "9ccc126a",
   "metadata": {},
   "source": [
    "# Analysis 1: Revenue and Profit Yields Over Time\n",
    "\n",
    "This analysis allows the exploration of revenue and profit yields over time, and across three linear adoption scenarios (historical adoption has been approximately linear):\n",
    "\n",
    "* Normal adoption: assumes an average of 3 new validators per epoch. These rates correspond to the historical average newly **activated** validators per epoch between 15 January 2021 and 15 July 2021 as per [Beaconscan](https://beaconscan.com/stat/validator).\n",
    "* Low adoption: assumes an average of 1.5 new validators per epoch, i.e. a 50% lower rate compared to the base scenario\n",
    "* High adoption: assumes an average of 4.5 new validators per epoch, i.e. a 50% higher rate compared to the base scenario\n",
    "\n",
    "Adoption scenarios can be customized by updating the `validator_process` System Parameter if desired.\n",
    "\n",
    "The first chart (\"Validator Adoption Scenarios\") depicts the three adoption scenarios (i.e. implied ETH staked over time) underlying Analysis 1. Please note that the High Adoption Scenario has non-linear dynamics due to the validator-activation queue-rate limiting. To create custom adoption scenarios, add another entry to the `validator_process` System Parameter, with either a static per-epoch validator adoption rate, or generate a time-series using the current timestep to index the data.\n",
    "\n",
    "The second chart (\"Revenue and Profit Yields Over Time – At a Glance\") depicts both revenue and profit yields over time and across the three adoption scenarios (i.e. implied ETH staked over time). The ETH price (relevant for profit yields) is by default set to the mean ETH price over the last 12 months. The higher the adoption, the lower both revenue and profit yields. The higher the ETH price, the higher the profit yields; while validator operational costs are fixed in dollars, returns are in ETH and their equivalent dollar value depends on the current ETH price.\n",
    "\n",
    "The third chart (\"Revenue or Profit Yields Over Time\") depicts revenue yields or profit yields (choose using button selector) over the chosen time frame and across the three adoption scenarios  (i.e. implied ETH staked over time), and ETH price range. In simple terms, this chart depicts how validators can expect the yield dynamics to change over different adoption and price scenarios. The higher the adoption, the lower both revenue and profit yields. The higher the price, the higher the profit yields.\n",
    "\n",
    "The fourth chart (\"Cumulative Revenue or Profit Yields Over Time\") depicts the cumulative revenue yields or profit yields (choose via button selector) over the chosen time frame, and across the three adoption scenarios (i.e. implied ETH staked over time) and ETH price range. In simple terms, this chart depicts the effective yields a validator can expect over the respective time horizons if they start validating today. The higher the adoption, the lower both revenue and profit yields. The higher the price, the higher the profit yields.\n",
    "\n",
    "The fifth chart (\"Cumulative Revenue or Profit Yields: PoS Issuance, EIP-1559 Priority Fees, MEV\") depicts the cumulative revenue yields over the chosen time frame, and split into its three components PoS Issuance, EIP-1559 Priority Fees, and MEV. This analysis has been made available via the model's web front-end at www.ethmodel.io."
   ]
  },
  {
   "cell_type": "code",
   "execution_count": 69,
   "id": "e9d26124",
   "metadata": {},
   "outputs": [
    {
     "name": "stdout",
     "output_type": "stream",
     "text": [
      "time: 60.4 ms (started: 2023-01-30 12:25:32 +05:30)\n"
     ]
    }
   ],
   "source": [
    "normal_adoption = simulation_1a.model.params['validator_process'][0](_run=None, _timestep=None)\n",
    "simulation_1a.model.params.update({\n",
    "    'validator_process': [\n",
    "        lambda _run, _timestep: normal_adoption,  # Normal adoption: current 6-month average active validators per epoch from The Graph Subgraph\n",
    "        lambda _run, _timestep: normal_adoption * 0.5,  # Low adoption: 50%-lower scenario\n",
    "        lambda _run, _timestep: normal_adoption * 1.5,  # High adoption: 50%-higher scenario\n",
    "    ],  # New validators per epoch\n",
    "})"
   ]
  },
  {
   "cell_type": "code",
   "execution_count": 70,
   "id": "038d1e99",
   "metadata": {},
   "outputs": [
    {
     "name": "stdout",
     "output_type": "stream",
     "text": [
      "Traceback (most recent call last):\n",
      "  File \"/Users/satyajit/go/src/github.com/ethereum-economic-model/venv/lib/python3.9/site-packages/radcad/core.py\", line 100, in single_run\n",
      "    _single_run(\n",
      "  File \"/Users/satyajit/go/src/github.com/ethereum-economic-model/venv/lib/python3.9/site-packages/radcad/core.py\", line 68, in _single_run\n",
      "    signals: dict = reduce_signals(\n",
      "  File \"/Users/satyajit/go/src/github.com/ethereum-economic-model/venv/lib/python3.9/site-packages/radcad/core.py\", line 179, in reduce_signals\n",
      "    policy_results: List[Dict[str, any]] = list(\n",
      "  File \"/Users/satyajit/go/src/github.com/ethereum-economic-model/venv/lib/python3.9/site-packages/radcad/core.py\", line 180, in <lambda>\n",
      "    map(lambda function: function(params, substep, result, substate), psu[\"policies\"].values())\n",
      "  File \"/Users/satyajit/go/src/github.com/ethereum-economic-model/experiments/notebooks/../../model/parts/system_metrics.py\", line 157, in policy_total_online_validator_rewards\n",
      "    total_realized_mev_to_validators_aa = previous_state[\"total_realized_mev_to_validators_aa\"]\n",
      "KeyError: 'total_realized_mev_to_validators_aa'\n",
      "\n"
     ]
    },
    {
     "ename": "KeyError",
     "evalue": "'total_realized_mev_to_validators_aa'",
     "output_type": "error",
     "traceback": [
      "\u001b[0;31m---------------------------------------------------------------------------\u001b[0m",
      "\u001b[0;31mKeyError\u001b[0m                                  Traceback (most recent call last)",
      "Cell \u001b[0;32mIn[70], line 1\u001b[0m\n\u001b[0;32m----> 1\u001b[0m df_1a, _exceptions \u001b[38;5;241m=\u001b[39m \u001b[43mrun\u001b[49m\u001b[43m(\u001b[49m\u001b[43msimulation_1a\u001b[49m\u001b[43m)\u001b[49m\n",
      "File \u001b[0;32m~/go/src/github.com/ethereum-economic-model/experiments/notebooks/../../experiments/run.py:24\u001b[0m, in \u001b[0;36mrun\u001b[0;34m(executable)\u001b[0m\n\u001b[1;32m     21\u001b[0m logging\u001b[38;5;241m.\u001b[39minfo(\u001b[38;5;124m\"\u001b[39m\u001b[38;5;124mRunning experiment\u001b[39m\u001b[38;5;124m\"\u001b[39m)\n\u001b[1;32m     22\u001b[0m start_time \u001b[38;5;241m=\u001b[39m time\u001b[38;5;241m.\u001b[39mtime()\n\u001b[0;32m---> 24\u001b[0m \u001b[43mexecutable\u001b[49m\u001b[38;5;241;43m.\u001b[39;49m\u001b[43mrun\u001b[49m\u001b[43m(\u001b[49m\u001b[43m)\u001b[49m\n\u001b[1;32m     26\u001b[0m experiment_duration \u001b[38;5;241m=\u001b[39m time\u001b[38;5;241m.\u001b[39mtime() \u001b[38;5;241m-\u001b[39m start_time\n\u001b[1;32m     27\u001b[0m logging\u001b[38;5;241m.\u001b[39minfo(\u001b[38;5;124mf\u001b[39m\u001b[38;5;124m\"\u001b[39m\u001b[38;5;124mExperiment complete in \u001b[39m\u001b[38;5;132;01m{\u001b[39;00mexperiment_duration\u001b[38;5;132;01m}\u001b[39;00m\u001b[38;5;124m seconds\u001b[39m\u001b[38;5;124m\"\u001b[39m)\n",
      "File \u001b[0;32m~/go/src/github.com/ethereum-economic-model/venv/lib/python3.9/site-packages/radcad/wrappers.py:151\u001b[0m, in \u001b[0;36mSimulation.run\u001b[0;34m(self)\u001b[0m\n\u001b[1;32m    150\u001b[0m \u001b[38;5;28;01mdef\u001b[39;00m \u001b[38;5;21mrun\u001b[39m(\u001b[38;5;28mself\u001b[39m):\n\u001b[0;32m--> 151\u001b[0m     \u001b[38;5;28;01mreturn\u001b[39;00m \u001b[38;5;28;43mself\u001b[39;49m\u001b[38;5;241;43m.\u001b[39;49m\u001b[43mengine\u001b[49m\u001b[38;5;241;43m.\u001b[39;49m\u001b[43m_run\u001b[49m\u001b[43m(\u001b[49m\u001b[43mexecutable\u001b[49m\u001b[38;5;241;43m=\u001b[39;49m\u001b[38;5;28;43mself\u001b[39;49m\u001b[43m)\u001b[49m\n",
      "File \u001b[0;32m~/go/src/github.com/ethereum-economic-model/venv/lib/python3.9/site-packages/radcad/engine.py:80\u001b[0m, in \u001b[0;36mEngine._run\u001b[0;34m(self, executable, **kwargs)\u001b[0m\n\u001b[1;32m     77\u001b[0m \u001b[38;5;28;01melse\u001b[39;00m:\n\u001b[1;32m     78\u001b[0m     \u001b[38;5;28;01mraise\u001b[39;00m \u001b[38;5;167;01mException\u001b[39;00m(\u001b[38;5;124mf\u001b[39m\u001b[38;5;124m\"\u001b[39m\u001b[38;5;124mExecution backend must be one of \u001b[39m\u001b[38;5;132;01m{\u001b[39;00mBackend\u001b[38;5;241m.\u001b[39m_member_names_\u001b[38;5;132;01m}\u001b[39;00m\u001b[38;5;124m, not \u001b[39m\u001b[38;5;132;01m{\u001b[39;00m\u001b[38;5;28mself\u001b[39m\u001b[38;5;241m.\u001b[39mbackend\u001b[38;5;132;01m}\u001b[39;00m\u001b[38;5;124m\"\u001b[39m)\n\u001b[0;32m---> 80\u001b[0m result \u001b[38;5;241m=\u001b[39m \u001b[43mExecutor\u001b[49m\u001b[43m(\u001b[49m\u001b[38;5;28;43mself\u001b[39;49m\u001b[43m)\u001b[49m\u001b[38;5;241;43m.\u001b[39;49m\u001b[43mexecute_runs\u001b[49m\u001b[43m(\u001b[49m\u001b[43m)\u001b[49m\n\u001b[1;32m     82\u001b[0m \u001b[38;5;28mself\u001b[39m\u001b[38;5;241m.\u001b[39mexecutable\u001b[38;5;241m.\u001b[39mresults, \u001b[38;5;28mself\u001b[39m\u001b[38;5;241m.\u001b[39mexecutable\u001b[38;5;241m.\u001b[39mexceptions \u001b[38;5;241m=\u001b[39m extract_exceptions(result)\n\u001b[1;32m     83\u001b[0m \u001b[38;5;28mself\u001b[39m\u001b[38;5;241m.\u001b[39mexecutable\u001b[38;5;241m.\u001b[39m_after_experiment(experiment\u001b[38;5;241m=\u001b[39m(executable \u001b[38;5;28;01mif\u001b[39;00m \u001b[38;5;28misinstance\u001b[39m(executable, wrappers\u001b[38;5;241m.\u001b[39mExperiment) \u001b[38;5;28;01melse\u001b[39;00m \u001b[38;5;28;01mNone\u001b[39;00m))\n",
      "File \u001b[0;32m~/go/src/github.com/ethereum-economic-model/venv/lib/python3.9/site-packages/radcad/backends/single_process.py:7\u001b[0m, in \u001b[0;36mExecutorSingleProcess.execute_runs\u001b[0;34m(self)\u001b[0m\n\u001b[1;32m      6\u001b[0m \u001b[38;5;28;01mdef\u001b[39;00m \u001b[38;5;21mexecute_runs\u001b[39m(\u001b[38;5;28mself\u001b[39m):\n\u001b[0;32m----> 7\u001b[0m     result \u001b[38;5;241m=\u001b[39m [\n\u001b[1;32m      8\u001b[0m         core\u001b[38;5;241m.\u001b[39m_single_run_wrapper((config, \u001b[38;5;28mself\u001b[39m\u001b[38;5;241m.\u001b[39mengine\u001b[38;5;241m.\u001b[39mraise_exceptions))\n\u001b[1;32m      9\u001b[0m         \u001b[38;5;28;01mfor\u001b[39;00m config \u001b[38;5;129;01min\u001b[39;00m \u001b[38;5;28mself\u001b[39m\u001b[38;5;241m.\u001b[39mengine\u001b[38;5;241m.\u001b[39m_run_generator\n\u001b[1;32m     10\u001b[0m     ]\n\u001b[1;32m     11\u001b[0m     \u001b[38;5;28;01mreturn\u001b[39;00m result\n",
      "File \u001b[0;32m~/go/src/github.com/ethereum-economic-model/venv/lib/python3.9/site-packages/radcad/backends/single_process.py:8\u001b[0m, in \u001b[0;36m<listcomp>\u001b[0;34m(.0)\u001b[0m\n\u001b[1;32m      6\u001b[0m \u001b[38;5;28;01mdef\u001b[39;00m \u001b[38;5;21mexecute_runs\u001b[39m(\u001b[38;5;28mself\u001b[39m):\n\u001b[1;32m      7\u001b[0m     result \u001b[38;5;241m=\u001b[39m [\n\u001b[0;32m----> 8\u001b[0m         \u001b[43mcore\u001b[49m\u001b[38;5;241;43m.\u001b[39;49m\u001b[43m_single_run_wrapper\u001b[49m\u001b[43m(\u001b[49m\u001b[43m(\u001b[49m\u001b[43mconfig\u001b[49m\u001b[43m,\u001b[49m\u001b[43m \u001b[49m\u001b[38;5;28;43mself\u001b[39;49m\u001b[38;5;241;43m.\u001b[39;49m\u001b[43mengine\u001b[49m\u001b[38;5;241;43m.\u001b[39;49m\u001b[43mraise_exceptions\u001b[49m\u001b[43m)\u001b[49m\u001b[43m)\u001b[49m\n\u001b[1;32m      9\u001b[0m         \u001b[38;5;28;01mfor\u001b[39;00m config \u001b[38;5;129;01min\u001b[39;00m \u001b[38;5;28mself\u001b[39m\u001b[38;5;241m.\u001b[39mengine\u001b[38;5;241m.\u001b[39m_run_generator\n\u001b[1;32m     10\u001b[0m     ]\n\u001b[1;32m     11\u001b[0m     \u001b[38;5;28;01mreturn\u001b[39;00m result\n",
      "File \u001b[0;32m~/go/src/github.com/ethereum-economic-model/venv/lib/python3.9/site-packages/radcad/core.py:143\u001b[0m, in \u001b[0;36m_single_run_wrapper\u001b[0;34m(args)\u001b[0m\n\u001b[1;32m    141\u001b[0m \u001b[38;5;28;01mexcept\u001b[39;00m \u001b[38;5;167;01mException\u001b[39;00m \u001b[38;5;28;01mas\u001b[39;00m e:\n\u001b[1;32m    142\u001b[0m     \u001b[38;5;28;01mif\u001b[39;00m raise_exceptions:\n\u001b[0;32m--> 143\u001b[0m         \u001b[38;5;28;01mraise\u001b[39;00m e\n\u001b[1;32m    144\u001b[0m     \u001b[38;5;28;01melse\u001b[39;00m:\n\u001b[1;32m    145\u001b[0m         \u001b[38;5;28;01mreturn\u001b[39;00m [], e\n",
      "File \u001b[0;32m~/go/src/github.com/ethereum-economic-model/venv/lib/python3.9/site-packages/radcad/core.py:129\u001b[0m, in \u001b[0;36m_single_run_wrapper\u001b[0;34m(args)\u001b[0m\n\u001b[1;32m    127\u001b[0m results, exception, traceback \u001b[38;5;241m=\u001b[39m single_run(\u001b[38;5;241m*\u001b[39m\u001b[38;5;28mtuple\u001b[39m(run_args))\n\u001b[1;32m    128\u001b[0m \u001b[38;5;28;01mif\u001b[39;00m raise_exceptions \u001b[38;5;129;01mand\u001b[39;00m exception:\n\u001b[0;32m--> 129\u001b[0m     \u001b[38;5;28;01mraise\u001b[39;00m exception\n\u001b[1;32m    130\u001b[0m \u001b[38;5;28;01melse\u001b[39;00m:\n\u001b[1;32m    131\u001b[0m     \u001b[38;5;28;01mreturn\u001b[39;00m results, {\n\u001b[1;32m    132\u001b[0m             \u001b[38;5;124m'\u001b[39m\u001b[38;5;124mexception\u001b[39m\u001b[38;5;124m'\u001b[39m: exception,\n\u001b[1;32m    133\u001b[0m             \u001b[38;5;124m'\u001b[39m\u001b[38;5;124mtraceback\u001b[39m\u001b[38;5;124m'\u001b[39m: traceback,\n\u001b[0;32m   (...)\u001b[0m\n\u001b[1;32m    139\u001b[0m             \u001b[38;5;124m'\u001b[39m\u001b[38;5;124minitial_state\u001b[39m\u001b[38;5;124m'\u001b[39m: run_args\u001b[38;5;241m.\u001b[39minitial_state,\n\u001b[1;32m    140\u001b[0m         }\n",
      "File \u001b[0;32m~/go/src/github.com/ethereum-economic-model/venv/lib/python3.9/site-packages/radcad/core.py:100\u001b[0m, in \u001b[0;36msingle_run\u001b[0;34m(simulation, timesteps, run, subset, initial_state, state_update_blocks, params, deepcopy, drop_substeps)\u001b[0m\n\u001b[1;32m     96\u001b[0m result \u001b[38;5;241m=\u001b[39m []\n\u001b[1;32m     98\u001b[0m \u001b[38;5;28;01mtry\u001b[39;00m:\n\u001b[1;32m     99\u001b[0m     \u001b[38;5;28;01mreturn\u001b[39;00m (\n\u001b[0;32m--> 100\u001b[0m         \u001b[43m_single_run\u001b[49m\u001b[43m(\u001b[49m\n\u001b[1;32m    101\u001b[0m \u001b[43m            \u001b[49m\u001b[43mresult\u001b[49m\u001b[43m,\u001b[49m\n\u001b[1;32m    102\u001b[0m \u001b[43m            \u001b[49m\u001b[43msimulation\u001b[49m\u001b[43m,\u001b[49m\n\u001b[1;32m    103\u001b[0m \u001b[43m            \u001b[49m\u001b[43mtimesteps\u001b[49m\u001b[43m,\u001b[49m\n\u001b[1;32m    104\u001b[0m \u001b[43m            \u001b[49m\u001b[43mrun\u001b[49m\u001b[43m,\u001b[49m\n\u001b[1;32m    105\u001b[0m \u001b[43m            \u001b[49m\u001b[43msubset\u001b[49m\u001b[43m,\u001b[49m\n\u001b[1;32m    106\u001b[0m \u001b[43m            \u001b[49m\u001b[43minitial_state\u001b[49m\u001b[43m,\u001b[49m\n\u001b[1;32m    107\u001b[0m \u001b[43m            \u001b[49m\u001b[43mstate_update_blocks\u001b[49m\u001b[43m,\u001b[49m\n\u001b[1;32m    108\u001b[0m \u001b[43m            \u001b[49m\u001b[43mparams\u001b[49m\u001b[43m,\u001b[49m\n\u001b[1;32m    109\u001b[0m \u001b[43m            \u001b[49m\u001b[43mdeepcopy\u001b[49m\u001b[43m,\u001b[49m\n\u001b[1;32m    110\u001b[0m \u001b[43m            \u001b[49m\u001b[43mdrop_substeps\u001b[49m\u001b[43m,\u001b[49m\n\u001b[1;32m    111\u001b[0m \u001b[43m        \u001b[49m\u001b[43m)\u001b[49m,\n\u001b[1;32m    112\u001b[0m         \u001b[38;5;28;01mNone\u001b[39;00m, \u001b[38;5;66;03m# Error\u001b[39;00m\n\u001b[1;32m    113\u001b[0m         \u001b[38;5;28;01mNone\u001b[39;00m, \u001b[38;5;66;03m# Traceback\u001b[39;00m\n\u001b[1;32m    114\u001b[0m     )\n\u001b[1;32m    115\u001b[0m \u001b[38;5;28;01mexcept\u001b[39;00m \u001b[38;5;167;01mException\u001b[39;00m \u001b[38;5;28;01mas\u001b[39;00m error:\n\u001b[1;32m    116\u001b[0m     trace \u001b[38;5;241m=\u001b[39m traceback\u001b[38;5;241m.\u001b[39mformat_exc()\n",
      "File \u001b[0;32m~/go/src/github.com/ethereum-economic-model/venv/lib/python3.9/site-packages/radcad/core.py:68\u001b[0m, in \u001b[0;36m_single_run\u001b[0;34m(result, simulation, timesteps, run, subset, initial_state, state_update_blocks, params, deepcopy, drop_substeps)\u001b[0m\n\u001b[1;32m     65\u001b[0m substate_copy \u001b[38;5;241m=\u001b[39m pickle\u001b[38;5;241m.\u001b[39mloads(pickle\u001b[38;5;241m.\u001b[39mdumps(substate, \u001b[38;5;241m-\u001b[39m\u001b[38;5;241m1\u001b[39m)) \u001b[38;5;28;01mif\u001b[39;00m deepcopy \u001b[38;5;28;01melse\u001b[39;00m substate\u001b[38;5;241m.\u001b[39mcopy()\n\u001b[1;32m     66\u001b[0m substate[\u001b[38;5;124m\"\u001b[39m\u001b[38;5;124msubstep\u001b[39m\u001b[38;5;124m\"\u001b[39m] \u001b[38;5;241m=\u001b[39m substep \u001b[38;5;241m+\u001b[39m \u001b[38;5;241m1\u001b[39m\n\u001b[0;32m---> 68\u001b[0m signals: \u001b[38;5;28mdict\u001b[39m \u001b[38;5;241m=\u001b[39m \u001b[43mreduce_signals\u001b[49m\u001b[43m(\u001b[49m\n\u001b[1;32m     69\u001b[0m \u001b[43m    \u001b[49m\u001b[43mparams\u001b[49m\u001b[43m,\u001b[49m\u001b[43m \u001b[49m\u001b[43msubstep\u001b[49m\u001b[43m,\u001b[49m\u001b[43m \u001b[49m\u001b[43mresult\u001b[49m\u001b[43m,\u001b[49m\u001b[43m \u001b[49m\u001b[43msubstate_copy\u001b[49m\u001b[43m,\u001b[49m\u001b[43m \u001b[49m\u001b[43mpsu\u001b[49m\u001b[43m,\u001b[49m\u001b[43m \u001b[49m\u001b[43mdeepcopy\u001b[49m\n\u001b[1;32m     70\u001b[0m \u001b[43m\u001b[49m\u001b[43m)\u001b[49m\n\u001b[1;32m     72\u001b[0m updated_state \u001b[38;5;241m=\u001b[39m \u001b[38;5;28mmap\u001b[39m(\n\u001b[1;32m     73\u001b[0m     partial(_update_state, initial_state, params, substep, result, substate_copy, signals),\n\u001b[1;32m     74\u001b[0m     psu[\u001b[38;5;124m\"\u001b[39m\u001b[38;5;124mvariables\u001b[39m\u001b[38;5;124m\"\u001b[39m]\u001b[38;5;241m.\u001b[39mitems()\n\u001b[1;32m     75\u001b[0m )\n\u001b[1;32m     76\u001b[0m substate\u001b[38;5;241m.\u001b[39mupdate(updated_state)\n",
      "File \u001b[0;32m~/go/src/github.com/ethereum-economic-model/venv/lib/python3.9/site-packages/radcad/core.py:179\u001b[0m, in \u001b[0;36mreduce_signals\u001b[0;34m(params, substep, result, substate, psu, deepcopy)\u001b[0m\n\u001b[1;32m    178\u001b[0m \u001b[38;5;28;01mdef\u001b[39;00m \u001b[38;5;21mreduce_signals\u001b[39m(params: \u001b[38;5;28mdict\u001b[39m, substep: \u001b[38;5;28mint\u001b[39m, result: \u001b[38;5;28mlist\u001b[39m, substate: \u001b[38;5;28mdict\u001b[39m, psu: \u001b[38;5;28mdict\u001b[39m, deepcopy: \u001b[38;5;28mbool\u001b[39m\u001b[38;5;241m=\u001b[39m\u001b[38;5;28;01mTrue\u001b[39;00m):\n\u001b[0;32m--> 179\u001b[0m     policy_results: List[Dict[\u001b[38;5;28mstr\u001b[39m, \u001b[38;5;28many\u001b[39m]] \u001b[38;5;241m=\u001b[39m \u001b[38;5;28;43mlist\u001b[39;49m\u001b[43m(\u001b[49m\n\u001b[1;32m    180\u001b[0m \u001b[43m        \u001b[49m\u001b[38;5;28;43mmap\u001b[39;49m\u001b[43m(\u001b[49m\u001b[38;5;28;43;01mlambda\u001b[39;49;00m\u001b[43m \u001b[49m\u001b[43mfunction\u001b[49m\u001b[43m:\u001b[49m\u001b[43m \u001b[49m\u001b[43mfunction\u001b[49m\u001b[43m(\u001b[49m\u001b[43mparams\u001b[49m\u001b[43m,\u001b[49m\u001b[43m \u001b[49m\u001b[43msubstep\u001b[49m\u001b[43m,\u001b[49m\u001b[43m \u001b[49m\u001b[43mresult\u001b[49m\u001b[43m,\u001b[49m\u001b[43m \u001b[49m\u001b[43msubstate\u001b[49m\u001b[43m)\u001b[49m\u001b[43m,\u001b[49m\u001b[43m \u001b[49m\u001b[43mpsu\u001b[49m\u001b[43m[\u001b[49m\u001b[38;5;124;43m\"\u001b[39;49m\u001b[38;5;124;43mpolicies\u001b[39;49m\u001b[38;5;124;43m\"\u001b[39;49m\u001b[43m]\u001b[49m\u001b[38;5;241;43m.\u001b[39;49m\u001b[43mvalues\u001b[49m\u001b[43m(\u001b[49m\u001b[43m)\u001b[49m\u001b[43m)\u001b[49m\n\u001b[1;32m    181\u001b[0m \u001b[43m    \u001b[49m\u001b[43m)\u001b[49m\n\u001b[1;32m    183\u001b[0m     result: \u001b[38;5;28mdict\u001b[39m \u001b[38;5;241m=\u001b[39m {}\n\u001b[1;32m    184\u001b[0m     result_length \u001b[38;5;241m=\u001b[39m \u001b[38;5;28mlen\u001b[39m(policy_results)\n",
      "File \u001b[0;32m~/go/src/github.com/ethereum-economic-model/venv/lib/python3.9/site-packages/radcad/core.py:180\u001b[0m, in \u001b[0;36mreduce_signals.<locals>.<lambda>\u001b[0;34m(function)\u001b[0m\n\u001b[1;32m    178\u001b[0m \u001b[38;5;28;01mdef\u001b[39;00m \u001b[38;5;21mreduce_signals\u001b[39m(params: \u001b[38;5;28mdict\u001b[39m, substep: \u001b[38;5;28mint\u001b[39m, result: \u001b[38;5;28mlist\u001b[39m, substate: \u001b[38;5;28mdict\u001b[39m, psu: \u001b[38;5;28mdict\u001b[39m, deepcopy: \u001b[38;5;28mbool\u001b[39m\u001b[38;5;241m=\u001b[39m\u001b[38;5;28;01mTrue\u001b[39;00m):\n\u001b[1;32m    179\u001b[0m     policy_results: List[Dict[\u001b[38;5;28mstr\u001b[39m, \u001b[38;5;28many\u001b[39m]] \u001b[38;5;241m=\u001b[39m \u001b[38;5;28mlist\u001b[39m(\n\u001b[0;32m--> 180\u001b[0m         \u001b[38;5;28mmap\u001b[39m(\u001b[38;5;28;01mlambda\u001b[39;00m function: \u001b[43mfunction\u001b[49m\u001b[43m(\u001b[49m\u001b[43mparams\u001b[49m\u001b[43m,\u001b[49m\u001b[43m \u001b[49m\u001b[43msubstep\u001b[49m\u001b[43m,\u001b[49m\u001b[43m \u001b[49m\u001b[43mresult\u001b[49m\u001b[43m,\u001b[49m\u001b[43m \u001b[49m\u001b[43msubstate\u001b[49m\u001b[43m)\u001b[49m, psu[\u001b[38;5;124m\"\u001b[39m\u001b[38;5;124mpolicies\u001b[39m\u001b[38;5;124m\"\u001b[39m]\u001b[38;5;241m.\u001b[39mvalues())\n\u001b[1;32m    181\u001b[0m     )\n\u001b[1;32m    183\u001b[0m     result: \u001b[38;5;28mdict\u001b[39m \u001b[38;5;241m=\u001b[39m {}\n\u001b[1;32m    184\u001b[0m     result_length \u001b[38;5;241m=\u001b[39m \u001b[38;5;28mlen\u001b[39m(policy_results)\n",
      "File \u001b[0;32m~/go/src/github.com/ethereum-economic-model/experiments/notebooks/../../model/parts/system_metrics.py:157\u001b[0m, in \u001b[0;36mpolicy_total_online_validator_rewards\u001b[0;34m(params, substep, state_history, previous_state)\u001b[0m\n\u001b[1;32m    153\u001b[0m total_priority_fee_to_validators \u001b[38;5;241m=\u001b[39m previous_state[\n\u001b[1;32m    154\u001b[0m     \u001b[38;5;124m\"\u001b[39m\u001b[38;5;124mtotal_priority_fee_to_validators\u001b[39m\u001b[38;5;124m\"\u001b[39m\n\u001b[1;32m    155\u001b[0m ]\n\u001b[1;32m    156\u001b[0m total_realized_mev_to_validators \u001b[38;5;241m=\u001b[39m previous_state[\u001b[38;5;124m\"\u001b[39m\u001b[38;5;124mtotal_realized_mev_to_validators\u001b[39m\u001b[38;5;124m\"\u001b[39m]\n\u001b[0;32m--> 157\u001b[0m total_realized_mev_to_validators_aa \u001b[38;5;241m=\u001b[39m \u001b[43mprevious_state\u001b[49m\u001b[43m[\u001b[49m\u001b[38;5;124;43m\"\u001b[39;49m\u001b[38;5;124;43mtotal_realized_mev_to_validators_aa\u001b[39;49m\u001b[38;5;124;43m\"\u001b[39;49m\u001b[43m]\u001b[49m\n\u001b[1;32m    158\u001b[0m total_realized_mev_to_validators_normal \u001b[38;5;241m=\u001b[39m previous_state[\u001b[38;5;124m\"\u001b[39m\u001b[38;5;124mtotal_realized_mev_to_validators_normal\u001b[39m\u001b[38;5;124m\"\u001b[39m]\n\u001b[1;32m    159\u001b[0m \u001b[38;5;66;03m# total_realized_mev_to_validators_aa = previous_state[\u001b[39;00m\n\u001b[1;32m    160\u001b[0m \u001b[38;5;66;03m#     \"total_realized_mev_to_validators_aa\"\u001b[39;00m\n\u001b[1;32m    161\u001b[0m \u001b[38;5;66;03m# ]\u001b[39;00m\n\u001b[1;32m    162\u001b[0m \n\u001b[1;32m    163\u001b[0m \u001b[38;5;66;03m# Calculate total rewards for online validators\u001b[39;00m\n",
      "\u001b[0;31mKeyError\u001b[0m: 'total_realized_mev_to_validators_aa'"
     ]
    },
    {
     "name": "stdout",
     "output_type": "stream",
     "text": [
      "time: 264 ms (started: 2023-01-30 12:25:32 +05:30)\n"
     ]
    }
   ],
   "source": [
    "df_1a, _exceptions = run(simulation_1a)"
   ]
  },
  {
   "cell_type": "code",
   "execution_count": null,
   "id": "a9a1c5f6",
   "metadata": {},
   "outputs": [],
   "source": [
    "visualizations.plot_number_of_validators_per_subset(df_1a, scenario_names={0: \"Normal Adoption\", 1: \"Low Adoption\", 2: \"High Adoption\"})"
   ]
  },
  {
   "cell_type": "markdown",
   "id": "6f2018cb",
   "metadata": {},
   "source": [
    "The charts below depict revenue and profit yields over time and across the three adoption scenarios shown above (i.e. implied ETH staked over time). The higher the adoption, the lower both revenue and profit yields."
   ]
  },
  {
   "cell_type": "code",
   "execution_count": null,
   "id": "de4b01ee",
   "metadata": {},
   "outputs": [],
   "source": [
    "visualizations.plot_yields_per_subset_subplots(\n",
    "    df_1a,\n",
    "    subplot_titles=['Normal Adoption', 'Low Adoption', 'High Adoption']\n",
    ")"
   ]
  },
  {
   "cell_type": "code",
   "execution_count": null,
   "id": "a23ba996",
   "metadata": {},
   "outputs": [],
   "source": [
    "visualizations.plot_yields_per_subset(df_1a, scenario_names={0: \"Normal Adoption\", 1: \"Low Adoption\", 2: \"High Adoption\"})"
   ]
  },
  {
   "cell_type": "code",
   "execution_count": null,
   "id": "9dd21cde-b26b-4985-9047-74c09d0b5587",
   "metadata": {},
   "outputs": [],
   "source": [
    "visualizations.plot_cumulative_yields_per_subset(df_1a, simulation_1a.model.params[\"dt\"][0], scenario_names={0: \"Normal Adoption\", 1: \"Low Adoption\", 2: \"High Adoption\"})"
   ]
  },
  {
   "cell_type": "code",
   "execution_count": null,
   "id": "f14c16ee-59a4-4341-9231-5ff0a459f041",
   "metadata": {},
   "outputs": [],
   "source": [
    "simulation_1b.model.params.update({\n",
    "    'base_fee_process': [\n",
    "        lambda _run, _timestep: 0,\n",
    "        lambda _run, _timestep: 30,\n",
    "    ],\n",
    "    'priority_fee_process': [\n",
    "        lambda _run, _timestep: 0,\n",
    "        lambda _run, _timestep: 2,\n",
    "    ],\n",
    "    'mev_per_block': [\n",
    "        0,\n",
    "        0,\n",
    "        0.2,  # ETH - median per-block MEV from https://explore.flashbots.net/\n",
    "    ]\n",
    "})"
   ]
  },
  {
   "cell_type": "code",
   "execution_count": null,
   "id": "b0d6abef-ecef-45f7-8933-a22b0809d9f2",
   "metadata": {},
   "outputs": [],
   "source": [
    "df_1b, _exceptions = run(simulation_1b)"
   ]
  },
  {
   "cell_type": "code",
   "execution_count": null,
   "id": "ddc796bd-1fa1-44e3-968a-193ffcbe995c",
   "metadata": {},
   "outputs": [],
   "source": [
    "# Calculate stacked revenue yields - subtract one yield value from the next, starting with largest yield scenario\n",
    "df = df_1b.copy()\n",
    "subsets = list(reversed(df.subset.unique()))\n",
    "for subset in subsets:\n",
    "    df.loc[df.subset == 0, 'cumulative_revenue_yields_stacked'] = df[df.subset == 0]['cumulative_revenue_yields_pct']\n",
    "    if subset == 0:\n",
    "        pass\n",
    "    else:\n",
    "        df.loc[df.subset == subset, 'cumulative_revenue_yields_stacked'] = \\\n",
    "            df[df.subset == subset]['cumulative_revenue_yields_pct'] - df[df.subset == subset - 1]['cumulative_revenue_yields_pct'].values"
   ]
  },
  {
   "cell_type": "code",
   "execution_count": null,
   "id": "b569fe04-4545-4588-953c-c6fa1b80292b",
   "metadata": {},
   "outputs": [],
   "source": [
    "fig = visualizations.plot_stacked_cumulative_column_per_subset(\n",
    "    df, column='cumulative_revenue_yields_stacked',\n",
    "    scenario_names={0: 'PoS Issuance', 1: 'EIP-1559 Priority Fees', 2: 'MEV'}\n",
    ")\n",
    "\n",
    "fig.update_layout(\n",
    "    title={\n",
    "        \"text\":\"\"\"\n",
    "            Cumulative Revenue Yields: PoS Issuance, EIP-1559 Priority Fees, MEV\n",
    "        \"\"\",\n",
    "    },\n",
    "    yaxis_title=\"Cumulative Revenue Yields (%)\",\n",
    ")\n",
    "\n",
    "fig.show()"
   ]
  },
  {
   "cell_type": "markdown",
   "id": "4d20d41b",
   "metadata": {},
   "source": [
    "# Analysis 2: Revenue and Profit Yields Over ETH Staked\n",
    "\n",
    "This analysis allows the exploration of revenue and profit yields over a wide range of ETH staked values. Compared to Analysis 1 (which assumed ETH staked ranges as a result of the adoption scenarios), Analysis 2 explicitly shows the yields validators can expect at certain points in the validator-adoption curve. Profit yields are sensitive to ETH price in USD/ETH and plotted at two discrete points – 100 USD/ETH and maximum ETH price over the last 12 months."
   ]
  },
  {
   "cell_type": "code",
   "execution_count": null,
   "id": "c4345479",
   "metadata": {},
   "outputs": [],
   "source": [
    "df_2, _exceptions = run(simulation_2)"
   ]
  },
  {
   "cell_type": "code",
   "execution_count": null,
   "id": "373ddc6b",
   "metadata": {},
   "outputs": [],
   "source": [
    "visualizations.plot_revenue_profit_yields_over_eth_staked(df_2)"
   ]
  },
  {
   "cell_type": "markdown",
   "id": "a4ee649b",
   "metadata": {},
   "source": [
    "# Analysis 3: Revenue and Profit Yields Over ETH Price\n",
    "\n",
    "This analysis allows the exploration of revenue and profit yields over a large range of ETH price values in USD/ETH. The ETH staked is fixed at the currrent ETH staked value updated from Etherscan. Revenue yields are not sensitive to ETH price, hence the horizontal line. Profit yields drop quickly at very low ETH prices and stabilize at higher ETH prices. Validator operational costs are fixed in USD, whereas revenue is in ETH. This causes a \"cliff\" in the realized profit (revenue - costs) at low ETH prices."
   ]
  },
  {
   "cell_type": "code",
   "execution_count": null,
   "id": "ddac6343",
   "metadata": {},
   "outputs": [],
   "source": [
    "simulation_3.model.params.update({\n",
    "    'eth_staked_process': [\n",
    "        # Current ETH staked value updated from Etherscan\n",
    "        lambda _run, _timestep: eth_staked,\n",
    "    ]\n",
    "})"
   ]
  },
  {
   "cell_type": "code",
   "execution_count": null,
   "id": "e2030eaf",
   "metadata": {},
   "outputs": [],
   "source": [
    "df_3, _exceptions = run(simulation_3)"
   ]
  },
  {
   "cell_type": "code",
   "execution_count": null,
   "id": "ef3dacc3",
   "metadata": {},
   "outputs": [],
   "source": [
    "visualizations.plot_revenue_profit_yields_over_eth_price(df_3)"
   ]
  },
  {
   "cell_type": "markdown",
   "id": "2ab0b9dc",
   "metadata": {},
   "source": [
    "# Analysis 4: Profit Yields Over ETH Staked vs. ETH Price\n",
    "\n",
    "This contour chart was created to enable at-a-glance intuition about the relationship between profit yields, validator adoption, and ETH price (and because we like colorful charts). Profit yields are highest when the ETH price is high and adoption is low."
   ]
  },
  {
   "cell_type": "code",
   "execution_count": null,
   "id": "88920cc2",
   "metadata": {},
   "outputs": [],
   "source": [
    "df_4, _exceptions = run(simulation_4)"
   ]
  },
  {
   "cell_type": "code",
   "execution_count": null,
   "id": "65a2f0f0",
   "metadata": {},
   "outputs": [],
   "source": [
    "fig = visualizations.plot_validator_environment_yield_contour(df_4)\n",
    "fig.write_image(\"../outputs/validator_environment_yield_contour.png\")\n",
    "fig.show()"
   ]
  },
  {
   "cell_type": "markdown",
   "id": "3db21d20",
   "metadata": {},
   "source": [
    "This surface chart displays the same data as the charts above and is arguably less readable, but since some folks might appreciate the fanciness of a 3D plot, we decided to keep it."
   ]
  },
  {
   "cell_type": "code",
   "execution_count": null,
   "id": "141582fe",
   "metadata": {},
   "outputs": [],
   "source": [
    "visualizations.plot_validator_environment_yield_surface(df_4)"
   ]
  },
  {
   "cell_type": "markdown",
   "id": "7063729e",
   "metadata": {},
   "source": [
    "# Analysis 5: Profit Yields By Validator Environment Over Time\n",
    "\n",
    "This analysis allows the exploration of revenue and profit yields per validator environment over time. The analysis is based on the \"Normal Adoption\" scenario described in Analysis 1. This analysis of course depends heavily on the cost assumptions per validator environment. We encourage the user to review the [assumptions document](../../ASSUMPTIONS.md) in this context.\n",
    "\n",
    "StaaS validator environments – which do not incur validator operational costs directly but instead pay a percentage of their total revenue as a fee to the relevant service provider – do not have variation in their profit yield with a stochastic (random) ETH price. Pool validator environments tend to receive better returns than StaaS environments, because their operational costs are shared among all the validators in the pool."
   ]
  },
  {
   "cell_type": "code",
   "execution_count": null,
   "id": "e6889d62",
   "metadata": {},
   "outputs": [],
   "source": [
    "df_5, _exceptions = run(simulation_5)"
   ]
  },
  {
   "cell_type": "code",
   "execution_count": null,
   "id": "ae2f9af8",
   "metadata": {},
   "outputs": [],
   "source": [
    "visualizations.plot_profit_yields_by_environment_over_time(df_5)"
   ]
  }
 ],
 "metadata": {
  "kernelspec": {
   "display_name": "Python 3",
   "language": "python",
   "name": "python3"
  },
  "language_info": {
   "codemirror_mode": {
    "name": "ipython",
    "version": 3
   },
   "file_extension": ".py",
   "mimetype": "text/x-python",
   "name": "python",
   "nbconvert_exporter": "python",
   "pygments_lexer": "ipython3",
   "version": "3.9.15"
  }
 },
 "nbformat": 4,
 "nbformat_minor": 5
}
